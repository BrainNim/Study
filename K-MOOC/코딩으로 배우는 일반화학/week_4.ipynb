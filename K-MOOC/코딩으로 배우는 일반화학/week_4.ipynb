{
 "cells": [
  {
   "cell_type": "markdown",
   "metadata": {},
   "source": [
    "# 4주차: 열역학시스템(카르노기관)"
   ]
  },
  {
   "cell_type": "markdown",
   "metadata": {},
   "source": [
    "## 1. 열역학 시스템 소개\n",
    "\n",
    "### 열기관\n",
    "\n",
    "- 열기관: 열에너지를 운동에너지로 변환시키는 기관  \n",
    "열 흡수 -> [열 기관] -> 일+ 열 방출  \n",
    "T_h, q_h -> [열기관] -> -W + T_l, q_l  \n",
    "\n",
    "- $열효율 \\epsilon = \\frac{외부로 가하는 일}{흡수된 열} = \\frac{-W}{q_h}$"
   ]
  },
  {
   "cell_type": "code",
   "execution_count": null,
   "metadata": {},
   "outputs": [],
   "source": []
  },
  {
   "cell_type": "code",
   "execution_count": null,
   "metadata": {},
   "outputs": [],
   "source": []
  }
 ],
 "metadata": {
  "kernelspec": {
   "display_name": "Python 3",
   "language": "python",
   "name": "python3"
  },
  "language_info": {
   "codemirror_mode": {
    "name": "ipython",
    "version": 3
   },
   "file_extension": ".py",
   "mimetype": "text/x-python",
   "name": "python",
   "nbconvert_exporter": "python",
   "pygments_lexer": "ipython3",
   "version": "3.8.3"
  }
 },
 "nbformat": 4,
 "nbformat_minor": 4
}
