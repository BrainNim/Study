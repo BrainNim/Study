{
 "cells": [
  {
   "cell_type": "markdown",
   "metadata": {},
   "source": [
    "# 4주차: 열역학시스템(카르노기관)"
   ]
  },
  {
   "cell_type": "markdown",
   "metadata": {},
   "source": [
    "## 1. 열역학 시스템 소개\n",
    "\n",
    "### 열기관\n",
    "\n",
    "- 열기관: 열에너지를 운동에너지로 변환시키는 기관  \n",
    "열 흡수 -> [열 기관] -> 일+ 열 방출  \n",
    "T_h, q_h -> [열기관] -> -W + T_l, q_l  \n",
    "\n",
    "- $열효율 \\epsilon = \\frac{외부로 가하는 일}{흡수된 열} = \\frac{-W}{q_h}$"
   ]
  },
  {
   "cell_type": "markdown",
   "metadata": {},
   "source": [
    "## 2. 카르노 사이클을 통해 열과 일의 변환 이해\n",
    "### 카르노 기관의 열 및 일 그리기 및 계산"
   ]
  },
  {
   "cell_type": "code",
   "execution_count": 20,
   "metadata": {},
   "outputs": [
    {
     "name": "stdout",
     "output_type": "stream",
     "text": [
      "V_A, P_A = 10 2.4615\n",
      "V_B, P_B = 20 1.23075\n",
      "V_C, P_C = 40 0.3876619580395288\n",
      "V_D, P_D = 20.0 0.7753239160790576\n"
     ]
    },
    {
     "data": {
      "image/png": "[encoded data removed]",
      "text/plain": [
       "<Figure size 432x288 with 1 Axes>"
      ]
     },
     "metadata": {
      "needs_background": "light"
     },
     "output_type": "display_data"
    }
   ],
   "source": [
    "from scipy.integrate import quad\n",
    "import numpy as np\n",
    "import matplotlib.pyplot as plt\n",
    "\n",
    "R = 0.08205\n",
    "gamma = 5/3\n",
    "\n",
    "def P_consT(V,P1,V1):\n",
    "    return P1*(V1/V)\n",
    "\n",
    "def P_adiab(V,P1,V1):\n",
    "    return P1*(V1/V)**gamma\n",
    "\n",
    "\n",
    "V_A = 10\n",
    "V_B = 20\n",
    "V_C = 40\n",
    "V_D = V_C*V_A/V_B\n",
    "\n",
    "n = 1\n",
    "T_h = 300\n",
    "\n",
    "P_A = n*R*T_h/V_A\n",
    "P_B = n*R*T_h/V_B\n",
    "P_C = P_B*(V_B/V_C)**gamma\n",
    "\n",
    "T_l = P_C*V_C/n/R\n",
    "\n",
    "P_D = n*R*T_l/V_D\n",
    "\n",
    "print('V_A, P_A =', V_A, P_A)\n",
    "print('V_B, P_B =', V_B, P_B)\n",
    "print('V_C, P_C =', V_C, P_C)\n",
    "print('V_D, P_D =', V_D, P_D)\n",
    "\n",
    "V_AB = np.arange(V_A,V_B+0.5,0.5)  # 포인트 하나 더 그리기\n",
    "V_BC = np.arange(V_B,V_C+0.5,0.5)\n",
    "V_CD = np.arange(V_D,V_C+0.5,0.5)\n",
    "V_DA = np.arange(V_A,V_D+0.5,0.5)\n",
    "\n",
    "\n",
    "plt.plot(V_AB, P_consT(V_AB,P_A,V_A), 'go-', label='AB')\n",
    "plt.plot(V_BC, P_adiab(V_BC,P_B,V_B), 'bv-', label='BC')\n",
    "plt.plot(V_CD, P_consT(V_CD,P_D,V_D), 'r^-', label='CD')\n",
    "plt.plot(V_DA, P_adiab(V_DA,P_A,V_A), 'y+-', label='DA')\n",
    "\n",
    "\n",
    "plt.legend()\n",
    "plt.xlabel('V (L)')\n",
    "plt.ylabel('P (atm)')\n",
    "plt.show()"
   ]
  },
  {
   "cell_type": "markdown",
   "metadata": {},
   "source": [
    "## 3. 카르노 사이클 효율 계산하기"
   ]
  },
  {
   "cell_type": "code",
   "execution_count": 21,
   "metadata": {},
   "outputs": [
    {
     "name": "stdout",
     "output_type": "stream",
     "text": [
      "w_AB ,q_AB = -17.061817849483056 17.061817849483056\n",
      "w_BC ,q_BC = -13.662782517628271 0\n",
      "w_CD ,q_CD = 10.748271729017889 -10.748271729017889\n",
      "w_DA ,q_DA = 13.662782517628271 0 \n",
      "\n",
      "w_total = -6.313546120465171\n",
      "w_total -> 음수 -> 일을 하고 있다. \n",
      "\n",
      "efficiency =  0.3700394750525637\n"
     ]
    }
   ],
   "source": [
    "w_AB = -quad(P_consT, V_A, V_B, args=(P_A,V_A))[0]\n",
    "w_BC = -quad(P_adiab, V_B, V_C, args=(P_B,V_B))[0]\n",
    "w_CD = -quad(P_consT, V_C, V_D, args=(P_C,V_C))[0]\n",
    "w_DA = -quad(P_adiab, V_D, V_A, args=(P_D,V_D))[0]\n",
    "w_total = w_AB+w_BC+w_CD+w_DA\n",
    "\n",
    "q_AB = -w_AB\n",
    "q_BC = 0\n",
    "q_CD = -w_CD\n",
    "q_DA = 0\n",
    "\n",
    "print('w_AB ,q_AB =', w_AB, q_AB)\n",
    "print('w_BC ,q_BC =', w_BC, q_BC)\n",
    "print('w_CD ,q_CD =', w_CD, q_CD)\n",
    "print('w_DA ,q_DA =', w_DA, q_DA, '\\n')\n",
    "print('w_total =', w_total)\n",
    "print('w_total -> 음수 -> 일을 하고 있다.', '\\n')\n",
    "\n",
    "efficiency = -w_total/q_AB\n",
    "print('efficiency = ', efficiency)"
   ]
  },
  {
   "cell_type": "code",
   "execution_count": null,
   "metadata": {},
   "outputs": [],
   "source": []
  }
 ],
 "metadata": {
  "kernelspec": {
   "display_name": "Python 3",
   "language": "python",
   "name": "python3"
  },
  "language_info": {
   "codemirror_mode": {
    "name": "ipython",
    "version": 3
   },
   "file_extension": ".py",
   "mimetype": "text/x-python",
   "name": "python",
   "nbconvert_exporter": "python",
   "pygments_lexer": "ipython3",
   "version": "3.8.3"
  }
 },
 "nbformat": 4,
 "nbformat_minor": 4
}
