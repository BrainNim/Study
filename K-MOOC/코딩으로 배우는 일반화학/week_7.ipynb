{
 "cells": [
  {
   "cell_type": "markdown",
   "metadata": {},
   "source": [
    "# 7주차: 양자역학(슈뢰딩거 방정식1)"
   ]
  },
  {
   "cell_type": "markdown",
   "metadata": {},
   "source": [
    "## 1. 슈뢰딩거 방정식 소개"
   ]
  },
  {
   "cell_type": "markdown",
   "metadata": {},
   "source": [
    "### 슈뢰딩거 방정식\n",
    "#### 파티클(입자)이 특정한 모멘텀(운동량)을 가지고 있을 때, 그 모멘텀에 해당하는 파장을 가진다\n",
    "- 드브로이 파장(wavelength de Broglie)\n",
    "- $ \\lambda = \\frac{h}{p} $\n",
    "- $\\lambda$: 파장, $p$: 모멘텀\n",
    "\n",
    "#### 파동 $ \\Psi (x) = A sin \\big(\\frac{2 \\pi x}{\\lambda} \\big) $ (시간 t 생략)\n",
    "#### 미분을 하면 $ \\frac{d \\Psi}{dx} = A\\frac{2\\pi}{\\lambda}cos \\big(\\frac{2 \\pi x}{\\lambda} \\big)$\n",
    "#### 한번더 하면 $ \\frac{d^2 \\Psi}{dx^2} = -A \\big( \\frac{2\\pi}{\\lambda} \\big)^2 sin \\big(\\frac{2 \\pi x}{\\lambda} \\big) = -  \\big(\\frac{2 \\pi}{\\lambda} \\big)^2 \\Psi(x)$   \n",
    "(첫번째 줄의 식을 대입한 결과)\n",
    "\n",
    "#### 양변에 $\\frac{h^2}{8m\\pi^2}$을 곱하면 (그리고 $ \\lambda = \\frac{h}{p} $를 대입하면)\n",
    "\n",
    "#### $\\frac{h^2}{8m\\pi^2}\\frac{d^2 \\Psi}{dx^2} = - \\frac{h^2}{8m\\pi^2} \\big( \\frac{2\\pi p}{h} \\big)^2 \\Psi (x) = - \\frac{p}{2m}\\Psi(x)$"
   ]
  },
  {
   "cell_type": "markdown",
   "metadata": {},
   "source": [
    "### $\\frac{h^2}{8m\\pi^2}\\frac{d^2}{dx^2}\\Psi (x) = - \\frac{p}{2m}\\Psi(x)$\n",
    "- $\\frac{h^2}{8m\\pi^2}\\frac{d^2}{dx^2}$ : Operator\n",
    "- $- \\frac{p}{2m}$ : Kinetic Energy ($ \\frac{1}{2} mv^2$)\n",
    "\n",
    "#### 양 변에 $V(x)\\Psi(x)$를 더하면 ($V(x)$ = potential energy)\n",
    "### $\\big[ \\frac{h^2}{8m\\pi^2}\\frac{d^2}{dx^2} + V(x) \\big]\\Psi (x) = \\big[-\\frac{p}{2m} + V(x) \\big] \\Psi(x) = E(x)\\Psi(x)$\n",
    "$\\because kinetic E + potential E = E$\n",
    "\n",
    "### 슈뢰딩거 방정식 : $\\big[ \\frac{h^2}{8m\\pi^2}\\frac{d^2}{dx^2} + V(x) \\big]\\Psi (x) = E(x)\\Psi(x)$"
   ]
  },
  {
   "cell_type": "markdown",
   "metadata": {},
   "source": [
    "## 2. Particle in a box\n",
    "\n",
    "#### 1)  $V(x) = \\infty, x<0 \\, or \\, x>L$\n",
    "#### 2)  $V(x) = 0 , 0<x<L$"
   ]
  },
  {
   "cell_type": "code",
   "execution_count": 2,
   "metadata": {},
   "outputs": [
    {
     "data": {
      "image/png": "[encoded data removed]",
      "text/plain": [
       "<Figure size 432x288 with 1 Axes>"
      ]
     },
     "metadata": {
      "needs_background": "light"
     },
     "output_type": "display_data"
    }
   ],
   "source": [
    "# particle in a box 포텐셜 그리기\n",
    "\n",
    "import numpy as np\n",
    "import matplotlib.pyplot as plt\n",
    "\n",
    "L = 10 # 상자 속 입자의 크기\n",
    "Vmax = 1000 # 무한\n",
    "\n",
    "x = np.linspace(0,L,1000)\n",
    "V = x*0.0  # 2) 일반적인 경우 V=0\n",
    "V[0] = Vmax  # 1)\n",
    "V[-1] = Vmax  # 1) x=0, L일 경우 V=무한\n",
    "\n",
    "plt.plot(x,V)\n",
    "plt.ylim(0,100)\n",
    "plt.show()"
   ]
  },
  {
   "cell_type": "code",
   "execution_count": null,
   "metadata": {},
   "outputs": [],
   "source": []
  }
 ],
 "metadata": {
  "kernelspec": {
   "display_name": "Python 3",
   "language": "python",
   "name": "python3"
  },
  "language_info": {
   "codemirror_mode": {
    "name": "ipython",
    "version": 3
   },
   "file_extension": ".py",
   "mimetype": "text/x-python",
   "name": "python",
   "nbconvert_exporter": "python",
   "pygments_lexer": "ipython3",
   "version": "3.8.3"
  }
 },
 "nbformat": 4,
 "nbformat_minor": 4
}
