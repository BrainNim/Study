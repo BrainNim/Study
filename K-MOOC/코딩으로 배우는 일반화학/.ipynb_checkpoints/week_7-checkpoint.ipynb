{
 "cells": [
  {
   "cell_type": "markdown",
   "metadata": {},
   "source": [
    "# 7주차: 양자역학(슈뢰딩거 방정식1)"
   ]
  },
  {
   "cell_type": "markdown",
   "metadata": {},
   "source": [
    "## 1. 슈뢰딩거 방정식 소개"
   ]
  },
  {
   "cell_type": "markdown",
   "metadata": {},
   "source": [
    "### 슈뢰딩거 방정식\n",
    "#### 파티클(입자)이 특정한 모멘텀(운동량)을 가지고 있을 때, 그 모멘텀에 해당하는 파장을 가진다\n",
    "- 드브로이 파장(wavelength de Broglie)\n",
    "- $ \\lambda = \\frac{h}{p} $\n",
    "- $\\lambda$: 파장, $p$: 모멘텀\n",
    "\n",
    "#### 파동 $ \\Psi (x) = A sin \\big(\\frac{2 \\pi x}{\\lambda} \\big) $ (시간 t 생략)\n",
    "#### 미분을 하면 $ \\frac{d \\Psi}{dx} = A\\frac{2\\pi}{\\lambda}cos \\big(\\frac{2 \\pi x}{\\lambda} \\big)$\n",
    "#### 한번더 하면 $ \\frac{d^2 \\Psi}{dx^2} = -A \\big( \\frac{2\\pi}{\\lambda} \\big)^2 sin \\big(\\frac{2 \\pi x}{\\lambda} \\big) = -  \\big(\\frac{2 \\pi x}{\\lambda} \\big)^2 \\Psi(x)$\n",
    "\n",
    "#### 양변에 $\\frac{h^2}{8m\\pi^2}$을 곱하면\n",
    "\n",
    "#### $\\frac{h^2}{8m\\pi^2}\\frac{d^2 \\Psi}{dx^2} = - \\frac{h^2}{8m\\pi^2} \\big( \\frac{2\\pi p}{h} \\big)^2 \\Psi (x) = - \\frac{p}{2m}\\Psi(x)$"
   ]
  },
  {
   "cell_type": "code",
   "execution_count": null,
   "metadata": {},
   "outputs": [],
   "source": []
  },
  {
   "cell_type": "code",
   "execution_count": null,
   "metadata": {},
   "outputs": [],
   "source": []
  }
 ],
 "metadata": {
  "kernelspec": {
   "display_name": "Python 3",
   "language": "python",
   "name": "python3"
  },
  "language_info": {
   "codemirror_mode": {
    "name": "ipython",
    "version": 3
   },
   "file_extension": ".py",
   "mimetype": "text/x-python",
   "name": "python",
   "nbconvert_exporter": "python",
   "pygments_lexer": "ipython3",
   "version": "3.8.3"
  }
 },
 "nbformat": 4,
 "nbformat_minor": 4
}
