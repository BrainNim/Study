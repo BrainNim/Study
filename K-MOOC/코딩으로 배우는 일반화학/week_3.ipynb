{
 "cells": [
  {
   "cell_type": "markdown",
   "metadata": {},
   "source": [
    "# 3주차: 열역학 제1법칙"
   ]
  },
  {
   "cell_type": "markdown",
   "metadata": {},
   "source": [
    "## 1. 열역학 제1법칙 소개\n",
    "\n",
    "### 에너지 보존의 법칙\n",
    "\n",
    "### $ \\Delta u = q + W $\n",
    "- $ \\Delta u $ : 내부에너지\n",
    "- $ q $ = 열\n",
    "- $ W $ = 일\n",
    "- 내부에너지는 온도에 의해서만 결정됨\n",
    "- 단원자분자 이상기체의 경우, 내부 에너지 변화 $ \\Delta u = \\frac{3}{2}nR\\Delta T $\n",
    "\n",
    "### $ W = F \\Delta S = P \\Delta V $\n",
    "- P-V(압력-부피)그래프에서 P 그래프의 아래 면적 --> 일(W)"
   ]
  },
  {
   "cell_type": "markdown",
   "metadata": {},
   "source": [
    "### 열\n",
    "#### 열용량 = 온도1도 올리는데 필요한 열 = $C$ = $\\frac{q}{\\Delta T}$\n",
    "  \n",
    "1. 단원자분자 이상기체에서 일정한 부피 ($\\Delta V = 0$)  \n",
    "$ q_{V} = n C_{V} \\Delta T$  \n",
    "$ W = P \\Delta V = 0 $ (부피변화가 없으므로 일=0)  \n",
    "$ \\Delta u = q_{V} $  \n",
    "$ \\frac{3}{2}nR\\Delta T = n C_{V} \\Delta T $  \n",
    "$ \\therefore C_{V} = \\frac{3}{2} $\n",
    "  \n",
    "2. 단원자분자 이상기체에서 일정한 압력\n",
    "$ q_{V} = n C_{P} \\Delta T$  \n",
    "$ q_{P} = \\Delta u + P \\Delta V =  q_{V} +P \\Delta V $  \n",
    "$ = n C_{V} \\Delta T + nR\\Delta T $  \n",
    "$ = n(C_{V} + R) \\Delta T $\n",
    "$ = n C_{P} \\Delta T $  \n",
    "$ C_{P} = C_{V} + R $  \n",
    "$ \\therefore C_{P} = \\frac{3}{2}R + R = \\frac{5}{2}R $"
   ]
  },
  {
   "cell_type": "markdown",
   "metadata": {},
   "source": [
    "### 일\n",
    "\n",
    "#### 1. 등온팽창일 경우(온도 일정 <-- 에너지 유입/출)\n",
    "\n",
    "$ W = -P \\Delta V = - \\int_{V_1}^{V_2}P dV = - \\int_{V_1}^{V_2} \\frac{nRT}{V} dV $  \n",
    "$ = -nRT \\int_{V_1}^{V_2} \\frac{1}{V} dV = -nRT ln \\frac{V2}{V1}$\n",
    "\n",
    "#### 2. 단열팽창일 경우(열의 교환X <-- 에너지 유입/출 X, q=0)\n",
    "$ \\Delta u = W \\because q = 0 $  \n",
    "$ n C_{V} \\Delta T = - P \\Delta V = - \\frac{nRT}{V} \\Delta V $  "
   ]
  },
  {
   "cell_type": "markdown",
   "metadata": {},
   "source": [
    "미분하기 위해 형태 변환  \n",
    "$ n C_{V} dT = - \\frac{nRT}{V} dV $  \n",
    "$ C_{V} \\frac{dT}{T} = - \\frac{R}{V} dV $"
   ]
  },
  {
   "cell_type": "markdown",
   "metadata": {},
   "source": [
    "양 변 적분  \n",
    "$ \\int_{T_1}^{T_2} C_{V} \\frac{dT}{T} = - \\int_{V_1}^{V_2} \\frac{R}{V} dV $  \n",
    "$ C_V ln \\frac{T_2}{T_1} = -R ln \\frac{V_2}{V_1} $  \n",
    "$ (\\frac{T_2}{T_1})^{C_V} = (\\frac{V_1}{V_2})^R = (\\frac{V_1}{V_2})^{C_P-C_V} \\because C_P = C_V + R $  "
   ]
  },
  {
   "cell_type": "markdown",
   "metadata": {},
   "source": [
    "양변에 $1/C_V$ 승을 취함  \n",
    "$ (\\frac{T_2}{T_1}) = (\\frac{V_1}{V_2})^{\\gamma -1} $ <-- ($\\gamma = \\frac{C_P}{C_V}$)  \n",
    "$ T_1 V_{1}^{\\gamma -1} = T_2 V_{2}^{\\gamma -1} $  \n",
    "$ P_1 V_{1}^{\\gamma} = P_2 V_{2}^{\\gamma} \\because T= \\frac{PV}{nR}$"
   ]
  },
  {
   "cell_type": "markdown",
   "metadata": {},
   "source": [
    "## 2. 부피-압력 그래프 그리기"
   ]
  },
  {
   "cell_type": "code",
   "execution_count": 1,
   "metadata": {},
   "outputs": [
    {
     "name": "stdout",
     "output_type": "stream",
     "text": [
      "(1.6666666666666667, 1.8503717077085944e-14)\n"
     ]
    }
   ],
   "source": [
    "import scipy.integrate as integrate\n",
    "\n",
    "def sample_function(x,a,b):\n",
    "    return a*x**2 + b\n",
    "\n",
    "a=2\n",
    "b=1\n",
    "I = integrate.quad(sample_function,0,1,args=(a,b))\n",
    "print(I)"
   ]
  },
  {
   "cell_type": "code",
   "execution_count": null,
   "metadata": {},
   "outputs": [],
   "source": []
  }
 ],
 "metadata": {
  "kernelspec": {
   "display_name": "Python 3",
   "language": "python",
   "name": "python3"
  },
  "language_info": {
   "codemirror_mode": {
    "name": "ipython",
    "version": 3
   },
   "file_extension": ".py",
   "mimetype": "text/x-python",
   "name": "python",
   "nbconvert_exporter": "python",
   "pygments_lexer": "ipython3",
   "version": "3.8.3"
  }
 },
 "nbformat": 4,
 "nbformat_minor": 4
}
