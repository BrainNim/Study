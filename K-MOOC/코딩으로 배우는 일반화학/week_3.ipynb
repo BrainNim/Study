{
 "cells": [
  {
   "cell_type": "markdown",
   "metadata": {},
   "source": [
    "# 3주차: 열역학 제1법칙"
   ]
  },
  {
   "cell_type": "markdown",
   "metadata": {},
   "source": [
    "## 1. 열역학 제1법칙 소개\n",
    "\n",
    "### 에너지 보존의 법칙\n",
    "\n",
    "### $ \\Delta u = q + W $\n",
    "- $ \\Delta u $ : 내부에너지\n",
    "- $ q $ = 열\n",
    "- $ W $ = 일\n",
    "- 내부에너지는 온도에 의해서만 결정됨\n",
    "- 단원자분자 이상기체의 경우, 내부 에너지 변화 $ \\Delta u = \\frac{3}{2}nR\\Delta T $\n",
    "\n",
    "### $ W = F \\Delta S = P \\Delta V $\n",
    "- P-V(압력-부피)그래프에서 P 그래프의 아래 면적 --> 일(W)"
   ]
  },
  {
   "cell_type": "markdown",
   "metadata": {},
   "source": [
    "### 열\n",
    "#### 열용량 = 온도1도 올리는데 필요한 열 = $C$ = $\\frac{q}{\\Delta T}$"
   ]
  },
  {
   "cell_type": "code",
   "execution_count": null,
   "metadata": {},
   "outputs": [],
   "source": []
  }
 ],
 "metadata": {
  "kernelspec": {
   "display_name": "Python 3",
   "language": "python",
   "name": "python3"
  },
  "language_info": {
   "codemirror_mode": {
    "name": "ipython",
    "version": 3
   },
   "file_extension": ".py",
   "mimetype": "text/x-python",
   "name": "python",
   "nbconvert_exporter": "python",
   "pygments_lexer": "ipython3",
   "version": "3.8.3"
  }
 },
 "nbformat": 4,
 "nbformat_minor": 4
}
