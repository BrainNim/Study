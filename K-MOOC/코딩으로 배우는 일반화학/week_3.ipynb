{
 "cells": [
  {
   "cell_type": "markdown",
   "metadata": {},
   "source": [
    "# 3주차: 열역학 제1법칙"
   ]
  },
  {
   "cell_type": "markdown",
   "metadata": {},
   "source": [
    "## 1. 열역학 제1법칙 소개\n",
    "\n",
    "### 에너지 보존의 법칙\n",
    "\n",
    "### $ \\Delta U = q + W $\n",
    "- $ \\Delta U $ : 내부에너지 변화\n",
    "- $ q $ = 열\n",
    "- $ W $ = 일\n",
    "- 내부에너지는 온도에 의해서만 결정됨\n",
    "- 단원자분자 이상기체의 경우, 내부 에너지 변화 $ \\Delta U = \\frac{3}{2}nR\\Delta T $\n",
    "\n",
    "### $ W = F \\Delta S = P \\Delta V $\n",
    "- P-V(압력-부피)그래프에서 P 그래프의 아래 면적 --> 일(W)"
   ]
  },
  {
   "cell_type": "markdown",
   "metadata": {},
   "source": [
    "### 열\n",
    "#### 열용량 = 온도1도 올리는데 필요한 열 = $C$ = $\\frac{q}{\\Delta T}$\n",
    "  \n",
    "1. 단원자분자 이상기체에서 일정한 부피 ($\\Delta V = 0$)  \n",
    "$ q_{V} = n C_{V} \\Delta T$  \n",
    "$ W = P \\Delta V = 0 $ (부피변화가 없으므로 일=0)  \n",
    "$ \\Delta U = q_{V} $  \n",
    "$ \\frac{3}{2}nR\\Delta T = n C_{V} \\Delta T $  \n",
    "$ \\therefore C_{V} = \\frac{3}{2} R $\n",
    "  \n",
    "2. 단원자분자 이상기체에서 일정한 압력\n",
    "$ q_{V} = n C_{P} \\Delta T$  \n",
    "$ q_{P} = \\Delta U + P \\Delta V =  q_{V} +P \\Delta V $  \n",
    "$ = n C_{V} \\Delta T + nR\\Delta T $  \n",
    "$ = n(C_{V} + R) \\Delta T $\n",
    "$ = n C_{P} \\Delta T $  \n",
    "$ C_{P} = C_{V} + R $  \n",
    "$ \\therefore C_{P} = \\frac{3}{2}R + R = \\frac{5}{2}R $"
   ]
  },
  {
   "cell_type": "markdown",
   "metadata": {},
   "source": [
    "### 일\n",
    "\n",
    "#### 1. 등온팽창일 경우(온도 일정 <-- 에너지 유입/출)\n",
    "\n",
    "$ W = -P \\Delta V = - \\int_{V_1}^{V_2}P dV = - \\int_{V_1}^{V_2} \\frac{nRT}{V} dV $  \n",
    "$ = -nRT \\int_{V_1}^{V_2} \\frac{1}{V} dV = -nRT ln \\frac{V2}{V1}$\n",
    "\n",
    "#### 2. 단열팽창일 경우(열의 교환X <-- 에너지 유입/출 X, q=0)\n",
    "$ \\Delta u = W \\because q = 0 $  \n",
    "$ n C_{V} \\Delta T = - P \\Delta V = - \\frac{nRT}{V} \\Delta V $  "
   ]
  },
  {
   "cell_type": "markdown",
   "metadata": {},
   "source": [
    "미분하기 위해 형태 변환  \n",
    "$ n C_{V} dT = - \\frac{nRT}{V} dV $  \n",
    "$ C_{V} \\frac{dT}{T} = - \\frac{R}{V} dV $"
   ]
  },
  {
   "cell_type": "markdown",
   "metadata": {},
   "source": [
    "양 변 적분  \n",
    "$ \\int_{T_1}^{T_2} C_{V} \\frac{dT}{T} = - \\int_{V_1}^{V_2} \\frac{R}{V} dV $  \n",
    "$ C_V ln \\frac{T_2}{T_1} = -R ln \\frac{V_2}{V_1} $  \n",
    "$ (\\frac{T_2}{T_1})^{C_V} = (\\frac{V_1}{V_2})^R = (\\frac{V_1}{V_2})^{C_P-C_V} \\because C_P = C_V + R $  "
   ]
  },
  {
   "cell_type": "markdown",
   "metadata": {},
   "source": [
    "양변에 $1/C_V$ 승을 취함  \n",
    "$ (\\frac{T_2}{T_1}) = (\\frac{V_1}{V_2})^{\\gamma -1} $ <-- ($\\gamma = \\frac{C_P}{C_V}$)  \n",
    "$ T_1 V_{1}^{\\gamma -1} = T_2 V_{2}^{\\gamma -1} $  \n",
    "$ P_1 V_{1}^{\\gamma} = P_2 V_{2}^{\\gamma} \\because T= \\frac{PV}{nR}$"
   ]
  },
  {
   "cell_type": "markdown",
   "metadata": {},
   "source": [
    "## 2. 부피-압력 그래프 그리기"
   ]
  },
  {
   "cell_type": "code",
   "execution_count": 1,
   "metadata": {},
   "outputs": [
    {
     "name": "stdout",
     "output_type": "stream",
     "text": [
      "(1.6666666666666667, 1.8503717077085944e-14)\n"
     ]
    }
   ],
   "source": [
    "# scipy 적분하기\n",
    "from scipy.integrate import quad \n",
    "\n",
    "def sample_function(x,a,b):  # 임의의 함수\n",
    "    return a*x**2 + b\n",
    "\n",
    "a=2\n",
    "b=1\n",
    "I = quad(sample_function,0,1,args=(a,b))\n",
    "print(I)"
   ]
  },
  {
   "cell_type": "code",
   "execution_count": 10,
   "metadata": {},
   "outputs": [
    {
     "name": "stdout",
     "output_type": "stream",
     "text": [
      "(0.9999999999999997, 1.0178191437091558e-08)\n"
     ]
    },
    {
     "data": {
      "image/png": "[encoded data removed]",
      "text/plain": [
       "<Figure size 432x288 with 1 Axes>"
      ]
     },
     "metadata": {
      "needs_background": "light"
     },
     "output_type": "display_data"
    }
   ],
   "source": [
    "# scipy적분은 무한대 적분도 당연히 가능함\n",
    "import numpy as np\n",
    "from scipy.integrate import quad \n",
    "\n",
    "def gaussian(x,a):  # 가우시안함수\n",
    "    return 1/a/np.sqrt(2*np.pi)*np.exp(-x**2/2/a**2)\n",
    "\n",
    "a=1\n",
    "I=quad(gaussian, -np.inf, np.inf,args=a)\n",
    "print(I)\n",
    "\n",
    "\n",
    "import matplotlib.pyplot as plt\n",
    "\n",
    "x = np.arange(-10, 10, 0.01)\n",
    "plt.plot(x, gaussian(x,a))\n",
    "plt.show()"
   ]
  },
  {
   "cell_type": "markdown",
   "metadata": {},
   "source": [
    "## 3. 부피-압력 그래프 적분하기"
   ]
  },
  {
   "cell_type": "markdown",
   "metadata": {},
   "source": [
    "$ P = \\frac{nRT}{V} $"
   ]
  },
  {
   "cell_type": "markdown",
   "metadata": {},
   "source": [
    "### 1) 등온조건의 경우"
   ]
  },
  {
   "cell_type": "code",
   "execution_count": 12,
   "metadata": {},
   "outputs": [
    {
     "data": {
      "image/png": "[encoded data removed]",
      "text/plain": [
       "<Figure size 432x288 with 1 Axes>"
      ]
     },
     "metadata": {
      "needs_background": "light"
     },
     "output_type": "display_data"
    }
   ],
   "source": [
    "import numpy as np\n",
    "from scipy.integrate import quad\n",
    "import matplotlib.pyplot as plt\n",
    "\n",
    "R = 0.08205  # in L atm /(K mol)\n",
    "\n",
    "def P(V, n, T):\n",
    "    return n*R*T/V\n",
    "\n",
    "V = np.arange(10,40,1)\n",
    "n = 1\n",
    "T1 = 200\n",
    "T2 = 300\n",
    "T3 = 400\n",
    "\n",
    "plt.plot(V,P(V,n, T1), 'go-', label = '200K')\n",
    "plt.plot(V,P(V,n, T2), 'b^-', label = '300K')\n",
    "plt.plot(V,P(V,n, T3), 'rv-', label = '400K')\n",
    "\n",
    "plt.legend()\n",
    "plt.xlabel('V (L)')\n",
    "plt.ylabel('P (atm)')\n",
    "plt.show()"
   ]
  },
  {
   "cell_type": "markdown",
   "metadata": {},
   "source": [
    "10L -> 40L 로 이동하는 동안 시스템(계)에서 하는 일(W)  \n",
    "$ W = -P \\Delta V = - \\int_{10}^{40}P dV = - \\int_{10}^{40} \\frac{nRT}{V} dV $ "
   ]
  },
  {
   "cell_type": "code",
   "execution_count": 19,
   "metadata": {},
   "outputs": [
    {
     "name": "stdout",
     "output_type": "stream",
     "text": [
      "w_t1 = -22.749090465977407\n",
      "w_t2 = -34.12363569896611\n",
      "w_t3 = -45.49818093195481\n"
     ]
    }
   ],
   "source": [
    "# 10L -> 40L 로 이동하는 동안 시스템(계)에서 하는 일(W)\n",
    "\n",
    "V1 = 10\n",
    "V2 = 40\n",
    "\n",
    "w_t1 = -quad(P,V1,V2, args=(n,T1))[0]\n",
    "w_t2 = -quad(P,V1,V2, args=(n,T2))[0]\n",
    "w_t3 = -quad(P,V1,V2, args=(n,T3))[0]\n",
    "\n",
    "print('w_t1 =',w_t1)\n",
    "print('w_t2 =',w_t2)\n",
    "print('w_t3 =',w_t3)"
   ]
  },
  {
   "cell_type": "markdown",
   "metadata": {},
   "source": [
    "이때, 등온팽창은 $\\Delta U = 0$이므로  \n",
    "$ \\Delta U = q + W = 0 $  \n",
    "$ \\therefore q = -W $"
   ]
  },
  {
   "cell_type": "code",
   "execution_count": 20,
   "metadata": {},
   "outputs": [
    {
     "name": "stdout",
     "output_type": "stream",
     "text": [
      "q at 200K =  22.749090465977407\n",
      "q at 300K =  34.12363569896611\n",
      "q at 400K =  45.49818093195481\n"
     ]
    }
   ],
   "source": [
    "q_t1 = -w_t1\n",
    "q_t2 = -w_t2\n",
    "q_t3 = -w_t3\n",
    "\n",
    "print('q at 200K = ', q_t1)\n",
    "print('q at 300K = ', q_t2)\n",
    "print('q at 400K = ', q_t3)"
   ]
  },
  {
   "cell_type": "markdown",
   "metadata": {},
   "source": [
    "### 1) 단열조건의 경우\n",
    "$ P_1 V_1^\\gamma = P_2 V_2^\\gamma $  \n",
    "$ \\gamma = c_p / c_V $"
   ]
  },
  {
   "cell_type": "markdown",
   "metadata": {},
   "source": [
    "$ \\therefore P = P_1 \\left(\\frac{V_1}{V}\\right)^\\gamma $"
   ]
  },
  {
   "cell_type": "code",
   "execution_count": 23,
   "metadata": {},
   "outputs": [
    {
     "data": {
      "image/png": "[encoded data removed]",
      "text/plain": [
       "<Figure size 432x288 with 1 Axes>"
      ]
     },
     "metadata": {
      "needs_background": "light"
     },
     "output_type": "display_data"
    }
   ],
   "source": [
    "import numpy as np\n",
    "from scipy.integrate import quad\n",
    "import matplotlib.pyplot as plt\n",
    "\n",
    "R = 0.08205  # in L atm /(K mol)\n",
    "gamma = 5/3  # in monatomic ideal gas\n",
    "\n",
    "def P_consT(V, P1, V1):  # 등온\n",
    "    return P1*(V1/V)\n",
    "\n",
    "def P_adiab(V, P1, V1):  # 단열\n",
    "    return P1*(V1/V)**gamma\n",
    "\n",
    "\n",
    "V = np.arange(10,40,1)\n",
    "n = 1\n",
    "T = 300\n",
    "\n",
    "V1 = 10\n",
    "P1 = n*R*T/V1\n",
    "\n",
    "plt.plot(V,P_consT(V, P1, V1), 'go-', label = 'Constant T')\n",
    "plt.plot(V,P_adiab(V, P1, V1), 'bv-', label = 'Adiabatic')\n",
    "\n",
    "plt.legend()\n",
    "plt.xlabel('V (L)')\n",
    "plt.ylabel('P (atm)')\n",
    "plt.show()"
   ]
  },
  {
   "cell_type": "markdown",
   "metadata": {},
   "source": [
    "10L -> 40L 로 이동하는 동안 시스템(계)에서 하는 일(W)  \n",
    "$ W = -P \\Delta V = - \\int_{10}^{40}P dV = - \\int_{10}^{40} P_1 \\left( \\frac{V_1}{V} \\right)^\\gamma dV $ "
   ]
  },
  {
   "cell_type": "code",
   "execution_count": 27,
   "metadata": {},
   "outputs": [
    {
     "name": "stdout",
     "output_type": "stream",
     "text": [
      "w_consT = -34.12363569896611\n",
      "w_adiab = -22.269796164676038\n"
     ]
    }
   ],
   "source": [
    "V1 = 10\n",
    "V2 = 40\n",
    "\n",
    "w_consT = -quad(P_consT,V1,V2, args=(P1,V1))[0]\n",
    "w_adiab = -quad(P_adiab,V1,V2, args=(P1,V1))[0]\n",
    "\n",
    "print('w_consT =',w_consT)\n",
    "print('w_adiab =',w_adiab)"
   ]
  },
  {
   "cell_type": "markdown",
   "metadata": {},
   "source": [
    "이때, 단열팽창은 $ q = 0 $ 이므로  \n",
    "$ \\Delta U = q + W = 0 + W $  \n",
    "$ \\therefore \\Delta U = W$ "
   ]
  },
  {
   "cell_type": "code",
   "execution_count": 28,
   "metadata": {},
   "outputs": [
    {
     "name": "stdout",
     "output_type": "stream",
     "text": [
      "dU = -22.269796164676038\n"
     ]
    }
   ],
   "source": [
    "dU = w_adiab\n",
    "print('dU =', dU)"
   ]
  },
  {
   "cell_type": "code",
   "execution_count": null,
   "metadata": {},
   "outputs": [],
   "source": []
  }
 ],
 "metadata": {
  "kernelspec": {
   "display_name": "Python 3",
   "language": "python",
   "name": "python3"
  },
  "language_info": {
   "codemirror_mode": {
    "name": "ipython",
    "version": 3
   },
   "file_extension": ".py",
   "mimetype": "text/x-python",
   "name": "python",
   "nbconvert_exporter": "python",
   "pygments_lexer": "ipython3",
   "version": "3.8.3"
  }
 },
 "nbformat": 4,
 "nbformat_minor": 4
}
