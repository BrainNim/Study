{
 "cells": [
  {
   "cell_type": "markdown",
   "metadata": {},
   "source": [
    "# 8. 양자역학 (슈뢰딩거 방정식 2)\n",
    "\n",
    "## 1. 3차원 슈뢰딩거방정식\n",
    "\n",
    "### 1차원 슈뢰딩거 방정식\n",
    "\n",
    "$ -\\dfrac{\\bar{h}^2}{2m}\\dfrac{d^2}{dx^2}\\psi(x) + V(x)\\psi(x) = E\\psi(x) $ $\\;\\;\\;\\;\\;$ ($\\bar{h} = \\frac{h}{2\\pi}$)\n",
    "\n",
    "### 1) $x<0 \\;or\\; x>L $\n",
    "$V(x)=\\infty \\rightarrow \\psi(x)=0$\n",
    "\n",
    "### 2) $ 0 <= x <= L $\n",
    "$V(x) = 0 \\rightarrow -\\dfrac{\\bar{h}^2}{2m}\\dfrac{d^2}{dx^2}\\psi(x) = E\\psi(x)$  \n",
    "$\\psi(x) = Asin(kx)$  \n",
    "  \n",
    "#### 이때 A, k를 알아내기 위한 방법  \n",
    "- x=0, L일 경우 $\\psi(x)=0$을 만족해야함 $\\rightarrow$ 1)조건과의 연속성 $\\rightarrow sin(kL) = 0$ \n",
    "- 모든 구간($ 0 <= x <= L $)에 대해 파동함수의 제곱을 적분하면 1이 나와야 함(전체 구간에서 입자가 발견될 확률은 도합 100%)"
   ]
  },
  {
   "cell_type": "markdown",
   "metadata": {},
   "source": [
    "$ \\int_{-\\infty}^{\\infty}| \\psi(x) |^2 = 1$  \n",
    "$ = \\int_{0}^{L} A^2 sin^2 \\big( \\dfrac{n\\pi}{L}x \\big) dx = A^2 \\cdot \\dfrac{L}{2} =1 $  \n",
    "$\\therefore A = \\sqrt{\\dfrac{2}{L}}$"
   ]
  },
  {
   "cell_type": "markdown",
   "metadata": {},
   "source": [
    "$\\therefore \\psi(x)=\\sqrt{\\dfrac{2}{L}} sin\\big( \\dfrac{n\\pi}{L}x \\big) \\;\\;\\; n=1,2,3,...$"
   ]
  },
  {
   "cell_type": "markdown",
   "metadata": {},
   "source": [
    "에너지를 확인하기 위해 슈뢰딩거 미분방정식에 위의 파동함수를 대입\n",
    "\n",
    "$-\\dfrac{\\bar{h}^2}{2m}\\dfrac{d^2}{dx^2}\\psi(x)$ $= -\\dfrac{\\bar{h}^2}{2m} \\sqrt{\\dfrac{2}{L}} sin\\big( \\dfrac{n\\pi}{L}x \\big) \\dfrac{d^2}{dx^2} $  \n",
    "\n",
    "$= + \\dfrac{\\bar{h}^2}{2m} \\big( \\dfrac{2}{L} \\big) ^{\\frac{1}{2}}\\big(\\dfrac{n\\pi}{L} \\big)^2 sin\\big(\\dfrac{n\\pi}{L} \\big)$ $=E\\sqrt{\\dfrac{2}{L}} sin\\big( \\dfrac{n\\pi}{L}x \\big)$\n",
    "\n",
    "$\\therefore E = \\dfrac{n^2 h^2}{8mL^2}  \\;\\;\\; n=1,2,3,...$"
   ]
  },
  {
   "cell_type": "markdown",
   "metadata": {},
   "source": [
    "#### 따라서 1차원 상자 속 입자에 대한\n",
    "- 파동함수 $\\psi(x)=\\sqrt{\\dfrac{2}{L}} sin\\big( \\dfrac{n\\pi}{L}x \\big) \\;\\;\\; n=1,2,3,...$\n",
    "- 에너지 $E = \\dfrac{n^2 h^2}{8mL^2}  \\;\\;\\; n=1,2,3,...$"
   ]
  },
  {
   "cell_type": "markdown",
   "metadata": {},
   "source": [
    "### 2차원 슈뢰딩거 방정식\n",
    "$ -\\dfrac{\\bar{h}^2}{2m} \\big( \\dfrac{d^2}{dx^2} +\\dfrac{d^2}{dy^2} \\big) \\psi(x,y) + V(x,y)\\psi(x,y) = E\\psi(x,y) $ \n",
    "\n",
    "$V(x,y) = 0 \\leftarrow 0<x<L_x \\;\\;and\\;\\; 0<y<L_y $  \n",
    "$V(x,y) = \\infty \\leftarrow otherwise$\n",
    "\n",
    "$\\therefore$ 포텐셜 $V$는 $L_x, L_y$ 범위 사각형 안에서만 발견됨 "
   ]
  },
  {
   "cell_type": "markdown",
   "metadata": {},
   "source": [
    "이때, \n",
    "#### 1) 파동함수 $\\psi$는 (x에 대한 파동함수) X (y에 대한 파동함수)의 형태\n",
    "$\\psi(x,y)=\\big(\\dfrac{2}{L_x}\\big)^{\\frac{1}{2}}\\big(\\dfrac{2}{L_y}\\big)^{\\frac{1}{2}} sin\\big( \\dfrac{n_x\\pi}{L_x} \\big) sin\\big( \\dfrac{n_y\\pi}{L_y} \\big) $\n",
    "\n",
    "#### 2) 에너지 $E$는 (x에 대한 에너지) + (y에 대한 에너지)의 형태\n",
    "$E_{n_x,n_y} = \\dfrac{{n_x}^2 h^2}{8m{L_x}^2} + \\dfrac{{n_y}^2 h^2}{8m{L_y}^2} = \\dfrac{h^2}{8m} \\big( \\dfrac{{n_x}^2}{{L_x}^2} + \\dfrac{{n_y}^2}{{L_y}^2} \\big)$ "
   ]
  },
  {
   "cell_type": "markdown",
   "metadata": {},
   "source": [
    "위와 같은 방식으로\n",
    "\n",
    "### 3차원 슈뢰딩거 방정식\n",
    "\n",
    "1) 파동함수 $\\psi(x,y)=\\big( \\dfrac{2}{L_x}\\big)^{\\frac{1}{2}}\\big(\\dfrac{2}{L_y}\\big)^{\\frac{1}{2}} \\big( \\dfrac{2}{L_z}\\big)^{\\frac{1}{2}} sin\\big( \\dfrac{n_x\\pi}{L_x} \\big) sin\\big( \\dfrac{n_y\\pi}{L_y} \\big) sin\\big( \\dfrac{n_z\\pi}{L_z} \\big)$\n",
    "\n",
    "2) 에너지$E_{n_x,n_y,n_z} = \\dfrac{h^2}{8m} \\big( \\dfrac{{n_x}^2}{{L_x}^2} + \\dfrac{{n_y}^2}{{L_y}^2} +\\dfrac{{n_z}^2}{{L_z}^2} \\big)$ "
   ]
  },
  {
   "cell_type": "code",
   "execution_count": null,
   "metadata": {},
   "outputs": [],
   "source": []
  }
 ],
 "metadata": {
  "kernelspec": {
   "display_name": "Python 3",
   "language": "python",
   "name": "python3"
  },
  "language_info": {
   "codemirror_mode": {
    "name": "ipython",
    "version": 3
   },
   "file_extension": ".py",
   "mimetype": "text/x-python",
   "name": "python",
   "nbconvert_exporter": "python",
   "pygments_lexer": "ipython3",
   "version": "3.8.3"
  }
 },
 "nbformat": 4,
 "nbformat_minor": 4
}
