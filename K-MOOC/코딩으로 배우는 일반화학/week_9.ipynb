{
 "cells": [
  {
   "cell_type": "markdown",
   "metadata": {},
   "source": [
    "# 9주차 양자역학과 원자구조1\n",
    "\n",
    "## 1. 수소원자 오비탈\n",
    "\n",
    "### 3차원 슈뢰딩거 방정식 "
   ]
  },
  {
   "cell_type": "markdown",
   "metadata": {},
   "source": [
    "#### \"상자 속 입자\" 문제를 다룰 때에는  \n",
    "- x축, y축, z축에 대한 각각의 파동함수를 따로 정의할 수 있었음\n",
    "- 각 축에 대해 양자 수 nx, ny, nz를 정의할 수 있었음\n",
    "\n",
    "#### but, 실제 원자(여기서는 수소원자)에서는 불가능함\n",
    "- 수소원자의 경우 $1/r^2$형태의 포텐셜을 가지기 때문"
   ]
  },
  {
   "cell_type": "code",
   "execution_count": null,
   "metadata": {},
   "outputs": [],
   "source": []
  }
 ],
 "metadata": {
  "kernelspec": {
   "display_name": "Python 3",
   "language": "python",
   "name": "python3"
  },
  "language_info": {
   "codemirror_mode": {
    "name": "ipython",
    "version": 3
   },
   "file_extension": ".py",
   "mimetype": "text/x-python",
   "name": "python",
   "nbconvert_exporter": "python",
   "pygments_lexer": "ipython3",
   "version": "3.8.3"
  }
 },
 "nbformat": 4,
 "nbformat_minor": 4
}
