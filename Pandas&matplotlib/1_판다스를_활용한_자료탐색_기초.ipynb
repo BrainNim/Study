{
 "cells": [
  {
   "cell_type": "markdown",
   "metadata": {},
   "source": [
    "# 판다스를 활용한 자료탐색 기초"
   ]
  },
  {
   "cell_type": "markdown",
   "metadata": {},
   "source": [
    "회사 자료를 직접 활용해서 글을 작성하는건 아쉽게도(?) 불가능하니 모두가 관심이 많은 주식 관련 데이터를 만져볼까 합니다.\n",
    "\n",
    "kiwoom API로 데이터를 수집할까 했다가 반년쯤 전에 네이버 주식페이지 크롤러를 만들어놨던게 생각나서 그걸 다시 돌려봤습니다.  \n",
    "짧게 종목코드(000000)~(005000)사이의 250개 종목만 들어있는 csv 파일입니다."
   ]
  },
  {
   "cell_type": "code",
   "execution_count": 1,
   "metadata": {},
   "outputs": [],
   "source": [
    "import matplotlib as mpl\n",
    "import matplotlib.pyplot as plt\n",
    "import matplotlib.font_manager as fm\n",
    "\n",
    "plt.rcParams['axes.unicode_minus'] = False  # matplotlib 마이너스기호 표시\n",
    "plt.rc('font', family='NanumGothic')  # matplotlib 한글폰트 표시\n",
    "\n",
    "\n",
    "import pandas as pd\n",
    "\n",
    "df = pd.read_csv('stock_market.csv')"
   ]
  },
  {
   "cell_type": "markdown",
   "metadata": {},
   "source": [
    "## 1. 데이터 개괄 살펴보기\n",
    "\n",
    "데이터프레임을 활용해 데이터 개괄을 살펴보는 방식은 여러가지가 있습니다.  \n",
    "여기서는 기본적인 3가지 방식만 먼저 보겠습니다.\n",
    "\n",
    "- info()\n",
    "- describe()\n",
    "- head(), tail()"
   ]
  },
  {
   "cell_type": "code",
   "execution_count": 2,
   "metadata": {},
   "outputs": [
    {
     "name": "stdout",
     "output_type": "stream",
     "text": [
      "<class 'pandas.core.frame.DataFrame'>\n",
      "RangeIndex: 250 entries, 0 to 249\n",
      "Data columns (total 29 columns):\n",
      " #   Column                Non-Null Count  Dtype  \n",
      "---  ------                --------------  -----  \n",
      " 0   ID                    250 non-null    object \n",
      " 1   Name                  250 non-null    object \n",
      " 2   Market                250 non-null    object \n",
      " 3   Category              250 non-null    object \n",
      " 4   Capital               250 non-null    int64  \n",
      " 5   PER                   249 non-null    float64\n",
      " 6   EPS                   250 non-null    int64  \n",
      " 7   ROE                   249 non-null    float64\n",
      " 8   PBR                   250 non-null    float64\n",
      " 9   EV                    157 non-null    float64\n",
      " 10  BPS                   250 non-null    int64  \n",
      " 11  Group_PER             250 non-null    float64\n",
      " 12  Revenue               250 non-null    int64  \n",
      " 13  Operating_Income      250 non-null    int64  \n",
      " 14  Net_Income            250 non-null    int64  \n",
      " 15  Dividend              189 non-null    float64\n",
      " 16  Debt                  250 non-null    float64\n",
      " 17  Debt_continuous       250 non-null    int64  \n",
      " 18  Retention             250 non-null    float64\n",
      " 19  Retention_Continuous  250 non-null    int64  \n",
      " 20  Open                  250 non-null    int64  \n",
      " 21  High                  250 non-null    int64  \n",
      " 22  Low                   250 non-null    int64  \n",
      " 23  Close                 250 non-null    int64  \n",
      " 24  DaytoDay              250 non-null    int64  \n",
      " 25  Volume                250 non-null    int64  \n",
      " 26  Highest_Price         250 non-null    int64  \n",
      " 27  Highest_Date          250 non-null    object \n",
      " 28  update_date           250 non-null    object \n",
      "dtypes: float64(8), int64(15), object(6)\n",
      "memory usage: 56.8+ KB\n"
     ]
    }
   ],
   "source": [
    "df.info()"
   ]
  },
  {
   "cell_type": "markdown",
   "metadata": {},
   "source": [
    "`.info()`를 활용하면 데이터 개수와 각 칼럼의 데이터타입, null 여부를 확인할 수 있어 유용합니다. "
   ]
  },
  {
   "cell_type": "code",
   "execution_count": 3,
   "metadata": {},
   "outputs": [
    {
     "data": {
      "text/html": [
       "<div>\n",
       "<style scoped>\n",
       "    .dataframe tbody tr th:only-of-type {\n",
       "        vertical-align: middle;\n",
       "    }\n",
       "\n",
       "    .dataframe tbody tr th {\n",
       "        vertical-align: top;\n",
       "    }\n",
       "\n",
       "    .dataframe thead th {\n",
       "        text-align: right;\n",
       "    }\n",
       "</style>\n",
       "<table border=\"1\" class=\"dataframe\">\n",
       "  <thead>\n",
       "    <tr style=\"text-align: right;\">\n",
       "      <th></th>\n",
       "      <th>Capital</th>\n",
       "      <th>PER</th>\n",
       "      <th>EPS</th>\n",
       "      <th>ROE</th>\n",
       "      <th>PBR</th>\n",
       "      <th>EV</th>\n",
       "      <th>BPS</th>\n",
       "      <th>Group_PER</th>\n",
       "      <th>Revenue</th>\n",
       "      <th>Operating_Income</th>\n",
       "      <th>...</th>\n",
       "      <th>Debt_continuous</th>\n",
       "      <th>Retention</th>\n",
       "      <th>Retention_Continuous</th>\n",
       "      <th>Open</th>\n",
       "      <th>High</th>\n",
       "      <th>Low</th>\n",
       "      <th>Close</th>\n",
       "      <th>DaytoDay</th>\n",
       "      <th>Volume</th>\n",
       "      <th>Highest_Price</th>\n",
       "    </tr>\n",
       "  </thead>\n",
       "  <tbody>\n",
       "    <tr>\n",
       "      <th>count</th>\n",
       "      <td>250.000000</td>\n",
       "      <td>249.000000</td>\n",
       "      <td>250.000000</td>\n",
       "      <td>249.00000</td>\n",
       "      <td>250.000000</td>\n",
       "      <td>157.000000</td>\n",
       "      <td>2.500000e+02</td>\n",
       "      <td>250.000000</td>\n",
       "      <td>250.000000</td>\n",
       "      <td>250.000000</td>\n",
       "      <td>...</td>\n",
       "      <td>250.000000</td>\n",
       "      <td>250.000000</td>\n",
       "      <td>250.000000</td>\n",
       "      <td>250.000000</td>\n",
       "      <td>250.000000</td>\n",
       "      <td>250.000000</td>\n",
       "      <td>250.000000</td>\n",
       "      <td>250.000000</td>\n",
       "      <td>2.500000e+02</td>\n",
       "      <td>250.000000</td>\n",
       "    </tr>\n",
       "    <tr>\n",
       "      <th>mean</th>\n",
       "      <td>10898.852000</td>\n",
       "      <td>4.545221</td>\n",
       "      <td>209.928000</td>\n",
       "      <td>6.77510</td>\n",
       "      <td>1.072160</td>\n",
       "      <td>21.470828</td>\n",
       "      <td>7.551041e+04</td>\n",
       "      <td>17.908800</td>\n",
       "      <td>9316.360000</td>\n",
       "      <td>632.992000</td>\n",
       "      <td>...</td>\n",
       "      <td>1.828000</td>\n",
       "      <td>2839.620400</td>\n",
       "      <td>2.996000</td>\n",
       "      <td>38892.124000</td>\n",
       "      <td>39676.600000</td>\n",
       "      <td>38561.144000</td>\n",
       "      <td>39294.172000</td>\n",
       "      <td>633.944000</td>\n",
       "      <td>6.018891e+05</td>\n",
       "      <td>56882.124000</td>\n",
       "    </tr>\n",
       "    <tr>\n",
       "      <th>std</th>\n",
       "      <td>57713.804674</td>\n",
       "      <td>92.761163</td>\n",
       "      <td>3551.201312</td>\n",
       "      <td>24.26233</td>\n",
       "      <td>1.220344</td>\n",
       "      <td>63.954942</td>\n",
       "      <td>1.883453e+05</td>\n",
       "      <td>24.351651</td>\n",
       "      <td>23830.066818</td>\n",
       "      <td>3001.286352</td>\n",
       "      <td>...</td>\n",
       "      <td>1.208411</td>\n",
       "      <td>6751.631504</td>\n",
       "      <td>1.768756</td>\n",
       "      <td>72336.989575</td>\n",
       "      <td>73809.494728</td>\n",
       "      <td>71944.046303</td>\n",
       "      <td>73414.157777</td>\n",
       "      <td>1661.466236</td>\n",
       "      <td>2.976599e+06</td>\n",
       "      <td>103776.416399</td>\n",
       "    </tr>\n",
       "    <tr>\n",
       "      <th>min</th>\n",
       "      <td>30.000000</td>\n",
       "      <td>-554.080000</td>\n",
       "      <td>-27196.000000</td>\n",
       "      <td>-118.36000</td>\n",
       "      <td>-5.150000</td>\n",
       "      <td>-4.250000</td>\n",
       "      <td>-5.380000e+02</td>\n",
       "      <td>-54.430000</td>\n",
       "      <td>13.000000</td>\n",
       "      <td>-579.000000</td>\n",
       "      <td>...</td>\n",
       "      <td>1.000000</td>\n",
       "      <td>-140.670000</td>\n",
       "      <td>1.000000</td>\n",
       "      <td>0.000000</td>\n",
       "      <td>0.000000</td>\n",
       "      <td>0.000000</td>\n",
       "      <td>299.000000</td>\n",
       "      <td>0.000000</td>\n",
       "      <td>0.000000e+00</td>\n",
       "      <td>0.000000</td>\n",
       "    </tr>\n",
       "    <tr>\n",
       "      <th>25%</th>\n",
       "      <td>855.250000</td>\n",
       "      <td>2.930000</td>\n",
       "      <td>-71.000000</td>\n",
       "      <td>1.59000</td>\n",
       "      <td>0.430000</td>\n",
       "      <td>6.220000</td>\n",
       "      <td>5.237000e+03</td>\n",
       "      <td>6.710000</td>\n",
       "      <td>495.000000</td>\n",
       "      <td>2.000000</td>\n",
       "      <td>...</td>\n",
       "      <td>1.000000</td>\n",
       "      <td>271.360000</td>\n",
       "      <td>1.000000</td>\n",
       "      <td>4631.250000</td>\n",
       "      <td>4756.250000</td>\n",
       "      <td>4575.000000</td>\n",
       "      <td>4647.500000</td>\n",
       "      <td>45.000000</td>\n",
       "      <td>5.815000e+03</td>\n",
       "      <td>7369.500000</td>\n",
       "    </tr>\n",
       "    <tr>\n",
       "      <th>50%</th>\n",
       "      <td>1663.500000</td>\n",
       "      <td>6.760000</td>\n",
       "      <td>79.500000</td>\n",
       "      <td>6.39000</td>\n",
       "      <td>0.670000</td>\n",
       "      <td>9.450000</td>\n",
       "      <td>1.570500e+04</td>\n",
       "      <td>10.405000</td>\n",
       "      <td>1774.000000</td>\n",
       "      <td>47.000000</td>\n",
       "      <td>...</td>\n",
       "      <td>1.000000</td>\n",
       "      <td>957.585000</td>\n",
       "      <td>3.000000</td>\n",
       "      <td>14175.000000</td>\n",
       "      <td>14425.000000</td>\n",
       "      <td>14025.000000</td>\n",
       "      <td>14325.000000</td>\n",
       "      <td>160.000000</td>\n",
       "      <td>5.475950e+04</td>\n",
       "      <td>21450.000000</td>\n",
       "    </tr>\n",
       "    <tr>\n",
       "      <th>75%</th>\n",
       "      <td>4144.000000</td>\n",
       "      <td>16.850000</td>\n",
       "      <td>672.250000</td>\n",
       "      <td>11.48000</td>\n",
       "      <td>1.367500</td>\n",
       "      <td>17.390000</td>\n",
       "      <td>6.239950e+04</td>\n",
       "      <td>20.600000</td>\n",
       "      <td>5452.000000</td>\n",
       "      <td>216.000000</td>\n",
       "      <td>...</td>\n",
       "      <td>2.000000</td>\n",
       "      <td>2720.487500</td>\n",
       "      <td>5.000000</td>\n",
       "      <td>41162.500000</td>\n",
       "      <td>41987.500000</td>\n",
       "      <td>39875.000000</td>\n",
       "      <td>40287.500000</td>\n",
       "      <td>500.000000</td>\n",
       "      <td>2.313110e+05</td>\n",
       "      <td>60806.750000</td>\n",
       "    </tr>\n",
       "    <tr>\n",
       "      <th>max</th>\n",
       "      <td>819003.000000</td>\n",
       "      <td>544.240000</td>\n",
       "      <td>15024.000000</td>\n",
       "      <td>305.77000</td>\n",
       "      <td>9.220000</td>\n",
       "      <td>771.500000</td>\n",
       "      <td>2.011830e+06</td>\n",
       "      <td>127.460000</td>\n",
       "      <td>171884.000000</td>\n",
       "      <td>42195.000000</td>\n",
       "      <td>...</td>\n",
       "      <td>5.000000</td>\n",
       "      <td>64024.100000</td>\n",
       "      <td>5.000000</td>\n",
       "      <td>632000.000000</td>\n",
       "      <td>654000.000000</td>\n",
       "      <td>632000.000000</td>\n",
       "      <td>654000.000000</td>\n",
       "      <td>19000.000000</td>\n",
       "      <td>4.290845e+07</td>\n",
       "      <td>813000.000000</td>\n",
       "    </tr>\n",
       "  </tbody>\n",
       "</table>\n",
       "<p>8 rows × 23 columns</p>\n",
       "</div>"
      ],
      "text/plain": [
       "             Capital         PER           EPS        ROE         PBR  \\\n",
       "count     250.000000  249.000000    250.000000  249.00000  250.000000   \n",
       "mean    10898.852000    4.545221    209.928000    6.77510    1.072160   \n",
       "std     57713.804674   92.761163   3551.201312   24.26233    1.220344   \n",
       "min        30.000000 -554.080000 -27196.000000 -118.36000   -5.150000   \n",
       "25%       855.250000    2.930000    -71.000000    1.59000    0.430000   \n",
       "50%      1663.500000    6.760000     79.500000    6.39000    0.670000   \n",
       "75%      4144.000000   16.850000    672.250000   11.48000    1.367500   \n",
       "max    819003.000000  544.240000  15024.000000  305.77000    9.220000   \n",
       "\n",
       "               EV           BPS   Group_PER        Revenue  Operating_Income  \\\n",
       "count  157.000000  2.500000e+02  250.000000     250.000000        250.000000   \n",
       "mean    21.470828  7.551041e+04   17.908800    9316.360000        632.992000   \n",
       "std     63.954942  1.883453e+05   24.351651   23830.066818       3001.286352   \n",
       "min     -4.250000 -5.380000e+02  -54.430000      13.000000       -579.000000   \n",
       "25%      6.220000  5.237000e+03    6.710000     495.000000          2.000000   \n",
       "50%      9.450000  1.570500e+04   10.405000    1774.000000         47.000000   \n",
       "75%     17.390000  6.239950e+04   20.600000    5452.000000        216.000000   \n",
       "max    771.500000  2.011830e+06  127.460000  171884.000000      42195.000000   \n",
       "\n",
       "       ...  Debt_continuous     Retention  Retention_Continuous  \\\n",
       "count  ...       250.000000    250.000000            250.000000   \n",
       "mean   ...         1.828000   2839.620400              2.996000   \n",
       "std    ...         1.208411   6751.631504              1.768756   \n",
       "min    ...         1.000000   -140.670000              1.000000   \n",
       "25%    ...         1.000000    271.360000              1.000000   \n",
       "50%    ...         1.000000    957.585000              3.000000   \n",
       "75%    ...         2.000000   2720.487500              5.000000   \n",
       "max    ...         5.000000  64024.100000              5.000000   \n",
       "\n",
       "                Open           High            Low          Close  \\\n",
       "count     250.000000     250.000000     250.000000     250.000000   \n",
       "mean    38892.124000   39676.600000   38561.144000   39294.172000   \n",
       "std     72336.989575   73809.494728   71944.046303   73414.157777   \n",
       "min         0.000000       0.000000       0.000000     299.000000   \n",
       "25%      4631.250000    4756.250000    4575.000000    4647.500000   \n",
       "50%     14175.000000   14425.000000   14025.000000   14325.000000   \n",
       "75%     41162.500000   41987.500000   39875.000000   40287.500000   \n",
       "max    632000.000000  654000.000000  632000.000000  654000.000000   \n",
       "\n",
       "           DaytoDay        Volume  Highest_Price  \n",
       "count    250.000000  2.500000e+02     250.000000  \n",
       "mean     633.944000  6.018891e+05   56882.124000  \n",
       "std     1661.466236  2.976599e+06  103776.416399  \n",
       "min        0.000000  0.000000e+00       0.000000  \n",
       "25%       45.000000  5.815000e+03    7369.500000  \n",
       "50%      160.000000  5.475950e+04   21450.000000  \n",
       "75%      500.000000  2.313110e+05   60806.750000  \n",
       "max    19000.000000  4.290845e+07  813000.000000  \n",
       "\n",
       "[8 rows x 23 columns]"
      ]
     },
     "execution_count": 3,
     "metadata": {},
     "output_type": "execute_result"
    }
   ],
   "source": [
    "df.describe()"
   ]
  },
  {
   "cell_type": "markdown",
   "metadata": {},
   "source": [
    "`.describe()`를 활용하면 각 칼럼에서의 최대, 최소, 4분위값, 평균과 표준편차를 확인할 수 있어 매우 간편합니다."
   ]
  },
  {
   "cell_type": "code",
   "execution_count": 4,
   "metadata": {},
   "outputs": [
    {
     "data": {
      "text/html": [
       "<div>\n",
       "<style scoped>\n",
       "    .dataframe tbody tr th:only-of-type {\n",
       "        vertical-align: middle;\n",
       "    }\n",
       "\n",
       "    .dataframe tbody tr th {\n",
       "        vertical-align: top;\n",
       "    }\n",
       "\n",
       "    .dataframe thead th {\n",
       "        text-align: right;\n",
       "    }\n",
       "</style>\n",
       "<table border=\"1\" class=\"dataframe\">\n",
       "  <thead>\n",
       "    <tr style=\"text-align: right;\">\n",
       "      <th></th>\n",
       "      <th>ID</th>\n",
       "      <th>Name</th>\n",
       "      <th>Market</th>\n",
       "      <th>Category</th>\n",
       "      <th>Capital</th>\n",
       "      <th>PER</th>\n",
       "      <th>EPS</th>\n",
       "      <th>ROE</th>\n",
       "      <th>PBR</th>\n",
       "      <th>EV</th>\n",
       "      <th>...</th>\n",
       "      <th>Retention_Continuous</th>\n",
       "      <th>Open</th>\n",
       "      <th>High</th>\n",
       "      <th>Low</th>\n",
       "      <th>Close</th>\n",
       "      <th>DaytoDay</th>\n",
       "      <th>Volume</th>\n",
       "      <th>Highest_Price</th>\n",
       "      <th>Highest_Date</th>\n",
       "      <th>update_date</th>\n",
       "    </tr>\n",
       "  </thead>\n",
       "  <tbody>\n",
       "    <tr>\n",
       "      <th>0</th>\n",
       "      <td>000020</td>\n",
       "      <td>동화약품</td>\n",
       "      <td>KOSPI</td>\n",
       "      <td>제약</td>\n",
       "      <td>3282</td>\n",
       "      <td>22.82</td>\n",
       "      <td>204</td>\n",
       "      <td>5.27</td>\n",
       "      <td>1.16</td>\n",
       "      <td>9.45</td>\n",
       "      <td>...</td>\n",
       "      <td>5</td>\n",
       "      <td>11400</td>\n",
       "      <td>11750</td>\n",
       "      <td>11400</td>\n",
       "      <td>11750</td>\n",
       "      <td>300</td>\n",
       "      <td>67692</td>\n",
       "      <td>21550</td>\n",
       "      <td>2020-08-11</td>\n",
       "      <td>2022-05-13 07:04:42</td>\n",
       "    </tr>\n",
       "    <tr>\n",
       "      <th>1</th>\n",
       "      <td>000040</td>\n",
       "      <td>KR모터스</td>\n",
       "      <td>KOSPI</td>\n",
       "      <td>자동차</td>\n",
       "      <td>761</td>\n",
       "      <td>-8.77</td>\n",
       "      <td>-48</td>\n",
       "      <td>-25.82</td>\n",
       "      <td>2.25</td>\n",
       "      <td>27.12</td>\n",
       "      <td>...</td>\n",
       "      <td>1</td>\n",
       "      <td>786</td>\n",
       "      <td>804</td>\n",
       "      <td>786</td>\n",
       "      <td>792</td>\n",
       "      <td>8</td>\n",
       "      <td>80163</td>\n",
       "      <td>1450</td>\n",
       "      <td>2019-07-05</td>\n",
       "      <td>2022-05-13 06:31:50</td>\n",
       "    </tr>\n",
       "    <tr>\n",
       "      <th>2</th>\n",
       "      <td>000050</td>\n",
       "      <td>경방</td>\n",
       "      <td>KOSPI</td>\n",
       "      <td>섬유,의류,신발,호화품</td>\n",
       "      <td>4208</td>\n",
       "      <td>16.92</td>\n",
       "      <td>155</td>\n",
       "      <td>2.98</td>\n",
       "      <td>0.46</td>\n",
       "      <td>8.86</td>\n",
       "      <td>...</td>\n",
       "      <td>5</td>\n",
       "      <td>15100</td>\n",
       "      <td>15350</td>\n",
       "      <td>14900</td>\n",
       "      <td>15350</td>\n",
       "      <td>200</td>\n",
       "      <td>8396</td>\n",
       "      <td>17750</td>\n",
       "      <td>2022-04-26</td>\n",
       "      <td>2022-05-13 06:48:06</td>\n",
       "    </tr>\n",
       "  </tbody>\n",
       "</table>\n",
       "<p>3 rows × 29 columns</p>\n",
       "</div>"
      ],
      "text/plain": [
       "       ID   Name Market      Category  Capital    PER  EPS    ROE   PBR  \\\n",
       "0  000020   동화약품  KOSPI            제약     3282  22.82  204   5.27  1.16   \n",
       "1  000040  KR모터스  KOSPI           자동차      761  -8.77  -48 -25.82  2.25   \n",
       "2  000050     경방  KOSPI  섬유,의류,신발,호화품     4208  16.92  155   2.98  0.46   \n",
       "\n",
       "      EV  ...  Retention_Continuous   Open   High    Low  Close  DaytoDay  \\\n",
       "0   9.45  ...                     5  11400  11750  11400  11750       300   \n",
       "1  27.12  ...                     1    786    804    786    792         8   \n",
       "2   8.86  ...                     5  15100  15350  14900  15350       200   \n",
       "\n",
       "   Volume  Highest_Price  Highest_Date          update_date  \n",
       "0   67692          21550    2020-08-11  2022-05-13 07:04:42  \n",
       "1   80163           1450    2019-07-05  2022-05-13 06:31:50  \n",
       "2    8396          17750    2022-04-26  2022-05-13 06:48:06  \n",
       "\n",
       "[3 rows x 29 columns]"
      ]
     },
     "execution_count": 4,
     "metadata": {},
     "output_type": "execute_result"
    }
   ],
   "source": [
    "df.head(3)"
   ]
  },
  {
   "cell_type": "markdown",
   "metadata": {},
   "source": [
    "`.head()`나 `.tail()`을 활용하면 실제 데이터를 볼 수 있기 때문에 직관적인 파악이 가능하다는 장점이 있습니다."
   ]
  },
  {
   "cell_type": "markdown",
   "metadata": {},
   "source": [
    "## 2. 범주형 자료 탐색\n",
    "\n",
    "위의 방식들만으로는 `Market`와 같은 범주형자료의 분포를 파악하기에 한계가 있습니다.  \n",
    "판다스 메소드 `value_counts()` 를 활용하면 간단히 범주형자료들을 확인해 볼 수 있습니다.\n",
    "\n",
    "- value_counts()"
   ]
  },
  {
   "cell_type": "code",
   "execution_count": 5,
   "metadata": {},
   "outputs": [
    {
     "data": {
      "text/plain": [
       "KOSPI     237\n",
       "KOSDAQ     13\n",
       "Name: Market, dtype: int64"
      ]
     },
     "execution_count": 5,
     "metadata": {},
     "output_type": "execute_result"
    }
   ],
   "source": [
    "df.Market.value_counts()"
   ]
  },
  {
   "cell_type": "code",
   "execution_count": 6,
   "metadata": {},
   "outputs": [
    {
     "data": {
      "text/plain": [
       "제약              24\n",
       "식품              22\n",
       "증권              20\n",
       "건축자재            15\n",
       "화학              15\n",
       "섬유,의류,신발,호화품    14\n",
       "건설              14\n",
       "복합기업            13\n",
       "자동차부품           13\n",
       "철강              13\n",
       "손해보험            10\n",
       "항공화물운송과물류        7\n",
       "종이와목재            6\n",
       "음료               6\n",
       "포장재              5\n",
       "비철금속             5\n",
       "가정용기기와용품         3\n",
       "화장품              3\n",
       "생명보험             3\n",
       "반도체와반도체장비        3\n",
       "기계               3\n",
       "항공사              3\n",
       "자동차              3\n",
       "전기제품             2\n",
       "전자장비와기기          2\n",
       "가스유틸리티           2\n",
       "석유와가스            2\n",
       "무역회사와판매업체        2\n",
       "디스플레이장비및부품       2\n",
       "전기장비             2\n",
       "방송과엔터테인먼트        1\n",
       "레저용장비와제품         1\n",
       "컴퓨터와주변기기         1\n",
       "가구               1\n",
       "무선통신서비스          1\n",
       "건강관리장비와용품        1\n",
       "생물공학             1\n",
       "식품과기본식료품소매       1\n",
       "전문소매             1\n",
       "에너지장비및서비스        1\n",
       "핸드셋              1\n",
       "도로와철도운송          1\n",
       "백화점과일반상점         1\n",
       "Name: Category, dtype: int64"
      ]
     },
     "execution_count": 6,
     "metadata": {},
     "output_type": "execute_result"
    }
   ],
   "source": [
    "df['Category'].value_counts()"
   ]
  },
  {
   "cell_type": "markdown",
   "metadata": {},
   "source": [
    "종목코드 00000~005000 사이의 250개 종목들은 KOSPI가 압도적으로 많고, 제약회사와 식품회사가 상대적으로 많음을 알 수 있습니다.  \n",
    "\n",
    "좀 더 직관적으로 확인하고 싶으니 시각화를 해봅시다."
   ]
  },
  {
   "cell_type": "code",
   "execution_count": 7,
   "metadata": {},
   "outputs": [
    {
     "data": {
      "text/plain": [
       "<matplotlib.axes._subplots.AxesSubplot at 0x22a12d3d9a0>"
      ]
     },
     "execution_count": 7,
     "metadata": {},
     "output_type": "execute_result"
    },
    {
     "data": {
      "image/png": "[encoded data removed]",
      "text/plain": [
       "<Figure size 432x288 with 1 Axes>"
      ]
     },
     "metadata": {},
     "output_type": "display_data"
    }
   ],
   "source": [
    "%matplotlib inline\n",
    "df['Market'].value_counts().plot(kind=\"pie\")"
   ]
  },
  {
   "cell_type": "code",
   "execution_count": 8,
   "metadata": {},
   "outputs": [
    {
     "data": {
      "text/plain": [
       "<matplotlib.axes._subplots.AxesSubplot at 0x22a134828e0>"
      ]
     },
     "execution_count": 8,
     "metadata": {},
     "output_type": "execute_result"
    },
    {
     "data": {
      "image/png": "[encoded data removed]",
      "text/plain": [
       "<Figure size 432x288 with 1 Axes>"
      ]
     },
     "metadata": {
      "needs_background": "light"
     },
     "output_type": "display_data"
    }
   ],
   "source": [
    "df.Category.value_counts()[:20].plot(kind=\"bar\")"
   ]
  },
  {
   "cell_type": "markdown",
   "metadata": {},
   "source": [
    "bar그래프에서는 상위 20개 카테고리만 살펴보았습니다.  \n",
    "도표로 보니 좀 더 직관적입니다.  "
   ]
  },
  {
   "cell_type": "markdown",
   "metadata": {},
   "source": [
    "## 3. 연속형 자료 탐색\n",
    "대략적인 연속형 자료 탐색은 1. 데이터 개괄 살펴보기에서 `.describe()`를 통해 간단하게 살펴보았습니다만,  \n",
    "숫자로만 보니 그닥 와닿지가 않습니다.\n",
    "연속형 자료의 분포를 좀 더 살펴봅시다.\n",
    "\n",
    "- skew() : 왜도(skewness)\n",
    "- kurtosis : 첨도(kurtosis)"
   ]
  },
  {
   "cell_type": "code",
   "execution_count": 9,
   "metadata": {},
   "outputs": [
    {
     "data": {
      "text/plain": [
       "Capital                 12.004460\n",
       "PER                     -1.424783\n",
       "EPS                     -3.388658\n",
       "ROE                      6.757212\n",
       "PBR                      2.424926\n",
       "EV                      10.573150\n",
       "BPS                      6.032474\n",
       "Group_PER                1.814353\n",
       "Revenue                  4.411730\n",
       "Operating_Income        11.237130\n",
       "Net_Income              12.101541\n",
       "Dividend                 1.220583\n",
       "Debt                     0.707430\n",
       "Debt_continuous          1.325841\n",
       "Retention                6.810874\n",
       "Retention_Continuous    -0.033400\n",
       "Open                     4.414171\n",
       "High                     4.470675\n",
       "Low                      4.438313\n",
       "Close                    4.500973\n",
       "DaytoDay                 6.923529\n",
       "Volume                  11.993030\n",
       "Highest_Price            4.347724\n",
       "dtype: float64"
      ]
     },
     "execution_count": 9,
     "metadata": {},
     "output_type": "execute_result"
    }
   ],
   "source": [
    "df.skew()"
   ]
  },
  {
   "cell_type": "markdown",
   "metadata": {},
   "source": [
    "`Debt`와 `Retention_Continuous`는 비교적 0과 가깝지만,  \n",
    "특히 `Capital`과 `Net_Income`등은 왜도 값이 12로, 값들이 왼쪽으로 치우쳐져있음을 알 수 있습니다.\n",
    "\n",
    "그럼 실제 모습은 어떨지 그래프로도 확인해보겠습니다."
   ]
  },
  {
   "cell_type": "code",
   "execution_count": 10,
   "metadata": {},
   "outputs": [
    {
     "data": {
      "text/plain": [
       "array([[<matplotlib.axes._subplots.AxesSubplot object at 0x0000022A13432280>,\n",
       "        <matplotlib.axes._subplots.AxesSubplot object at 0x0000022A1356B100>],\n",
       "       [<matplotlib.axes._subplots.AxesSubplot object at 0x0000022A135A5520>,\n",
       "        <matplotlib.axes._subplots.AxesSubplot object at 0x0000022A135D2970>]],\n",
       "      dtype=object)"
      ]
     },
     "execution_count": 10,
     "metadata": {},
     "output_type": "execute_result"
    },
    {
     "data": {
      "image/png": "[encoded data removed]",
      "text/plain": [
       "<Figure size 720x720 with 4 Axes>"
      ]
     },
     "metadata": {
      "needs_background": "light"
     },
     "output_type": "display_data"
    }
   ],
   "source": [
    "df[['Debt', 'Retention_Continuous', 'Capital', 'Net_Income']].hist(bins=50, figsize=(10,10))"
   ]
  },
  {
   "cell_type": "markdown",
   "metadata": {},
   "source": [
    "`Debt`와 `Retention_Continuous`는 0과 가까워 비교적 정규분포와 비슷한 모양을 띠지 않을까 기대했지만,  \n",
    "`Debt`에서는 빚이 마이너스 수치를 나타내는 이해하기 힘든 데이터가 존재하므로 한번 검토해봐야 함을 알 수 있습니다.  \n",
    "`Retention_Continuous`에서는 정규분포와는 상하반전된 형태로 좌우 균형을 나타내기 때문에 0과 유사한 값이 나타났음을 알 수 있습니다."
   ]
  },
  {
   "cell_type": "code",
   "execution_count": 11,
   "metadata": {},
   "outputs": [
    {
     "data": {
      "text/plain": [
       "Capital                 160.106356\n",
       "PER                      23.315257\n",
       "EPS                      30.061399\n",
       "ROE                      96.289091\n",
       "PBR                      16.090916\n",
       "EV                      123.121259\n",
       "BPS                      49.387270\n",
       "Group_PER                 3.789701\n",
       "Revenue                  21.202937\n",
       "Operating_Income        149.662412\n",
       "Net_Income              165.134548\n",
       "Dividend                  1.087868\n",
       "Debt                     19.171876\n",
       "Debt_continuous           0.497723\n",
       "Retention                55.890376\n",
       "Retention_Continuous     -1.796421\n",
       "Open                     25.257447\n",
       "High                     26.151345\n",
       "Low                      25.614375\n",
       "Close                    26.553923\n",
       "DaytoDay                 64.312979\n",
       "Volume                  165.830439\n",
       "Highest_Price            23.484320\n",
       "dtype: float64"
      ]
     },
     "execution_count": 11,
     "metadata": {},
     "output_type": "execute_result"
    }
   ],
   "source": [
    "df.kurtosis()"
   ]
  },
  {
   "cell_type": "markdown",
   "metadata": {},
   "source": [
    "`Debt_continuous`는 비교적 0과 가까워 첨도가 정규분포와 유사한 모습이지만,  \n",
    "특히 `Capital`과 `Net_Income`등은 첨도 값이 160이나 되어서, 값들이 좁은 영역에 매우 몰려있음을 알 수 있습니다."
   ]
  },
  {
   "cell_type": "code",
   "execution_count": 12,
   "metadata": {},
   "outputs": [
    {
     "data": {
      "text/plain": [
       "array([[<matplotlib.axes._subplots.AxesSubplot object at 0x0000022A13AE5A60>,\n",
       "        <matplotlib.axes._subplots.AxesSubplot object at 0x0000022A13AEBFA0>]],\n",
       "      dtype=object)"
      ]
     },
     "execution_count": 12,
     "metadata": {},
     "output_type": "execute_result"
    },
    {
     "data": {
      "image/png": "[encoded data removed]",
      "text/plain": [
       "<Figure size 720x360 with 2 Axes>"
      ]
     },
     "metadata": {
      "needs_background": "light"
     },
     "output_type": "display_data"
    }
   ],
   "source": [
    "df[['Debt_continuous', 'Capital']].hist(bins=50, figsize=(10,5))"
   ]
  },
  {
   "cell_type": "markdown",
   "metadata": {},
   "source": [
    "매우 뾰족한 `Capital`에 비해, `Debt_continuous`는 비교적 완만한 첨도를 나타내고 있습니다."
   ]
  }
 ],
 "metadata": {
  "kernelspec": {
   "display_name": "Python 3",
   "language": "python",
   "name": "python3"
  },
  "language_info": {
   "codemirror_mode": {
    "name": "ipython",
    "version": 3
   },
   "file_extension": ".py",
   "mimetype": "text/x-python",
   "name": "python",
   "nbconvert_exporter": "python",
   "pygments_lexer": "ipython3",
   "version": "3.8.3"
  }
 },
 "nbformat": 4,
 "nbformat_minor": 4
}
